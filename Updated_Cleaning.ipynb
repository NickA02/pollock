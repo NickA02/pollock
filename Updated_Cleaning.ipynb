{
 "cells": [
  {
   "cell_type": "code",
   "execution_count": 81,
   "metadata": {},
   "outputs": [],
   "source": [
    "import PyPDF2\n",
    "import os\n",
    "from constants import *\n",
    "import string\n",
    "import json\n",
    "import re\n",
    "import wordninja\n",
    "import nltk\n",
    "from difflib import SequenceMatcher"
   ]
  },
  {
   "cell_type": "markdown",
   "metadata": {},
   "source": [
    "### Article Cleaning\n",
    "\n",
    "Note: the sample cleanedArticles and rawArticles is only the first few article folders & the first 10 valid articles within those folders (I didnt wanna clog the repo but wanted to show the output)\n"
   ]
  },
  {
   "cell_type": "code",
   "execution_count": 2,
   "metadata": {},
   "outputs": [],
   "source": [
    "# Check to see if the word \"abstract\" appears before the word \"introduction\" in an article\n",
    "# Also checks to make sure article is in English...\n",
    "def isValidOrder(text: str):\n",
    "    abstractFound = False\n",
    "    for i in range(len(text)):\n",
    "        if not abstractFound and 'abstract' in text[0:i]:\n",
    "            abstractFound = True\n",
    "        if 'introduction' in text[0:i]:\n",
    "            if abstractFound:\n",
    "                return True\n",
    "            return False\n",
    "        # references showing up before \"abstract\" and \"introduction\"\n",
    "        if 'references' in text[0:i]:\n",
    "            return False"
   ]
  },
  {
   "cell_type": "code",
   "execution_count": 28,
   "metadata": {},
   "outputs": [
    {
     "name": "stdout",
     "output_type": "stream",
     "text": [
      "reading folder: \n",
      "reading folder: 0704\n",
      "reading folder: 0705\n",
      "reading folder: 0706\n",
      "reading folder: 0707\n",
      "reading folder: 0708\n",
      "reading folder: 0709\n",
      "reading folder: 0710\n",
      "reading folder: 0711\n",
      "reading folder: 0712\n",
      "reading folder: 0801\n",
      "reading folder: 0802\n",
      "reading folder: 0803\n",
      "reading folder: 0804\n",
      "reading folder: 0805\n",
      "reading folder: 0806\n",
      "reading folder: 0807\n",
      "reading folder: 0808\n",
      "reading folder: 0809\n",
      "reading folder: 0810\n",
      "reading folder: 0811\n",
      "reading folder: 0812\n",
      "reading folder: 0901\n",
      "reading folder: 0902\n",
      "reading folder: 0903\n"
     ]
    }
   ],
   "source": [
    "\n",
    "# rootdir = 'articles'\n",
    "# validArticles = {}\n",
    "# for subdir, dirs, files in os.walk(rootdir):\n",
    "#     subdir = subdir.replace('\\\\', '')\n",
    "#     subdir = subdir.replace(f'{rootdir}', '')\n",
    "#     print('reading folder: ' + subdir)\n",
    "#     counter = 0\n",
    "#     for file in files:\n",
    "#         # im only taking the first 10 valid articles for each folder here so I can show input and output on github\n",
    "#         if counter == 10:\n",
    "#             break\n",
    "#         with open(f'{rootdir}/{subdir}/{file}', 'r', encoding='cp1252', errors='ignore') as f:\n",
    "#             text = \" \".join(f.readlines())\n",
    "#             # only look for articles with \"abstract\", \"introduction\", and \"references\" to make cleaning possible\n",
    "#             if 'abstract' in text.lower() and 'introduction' in text.lower() and 'references' in text.lower():\n",
    "#                 # need to make sure the show up in the right order\n",
    "#                 if isValidOrder(text.lower()):\n",
    "#                     validArticles[file] = text \n",
    "#                     counter += 1"
   ]
  },
  {
   "cell_type": "code",
   "execution_count": 122,
   "metadata": {},
   "outputs": [],
   "source": [
    "def cleanArticle(text: str):\n",
    "    # Start building an empty string with cleaned text\n",
    "    cleanedText = \"\"\n",
    "    # We want to leave out abstract and start with the introduction section\n",
    "    startingIndex = text.lower().find('introduction') + len('introduction')\n",
    "    # We don't want to include all the references\n",
    "    endingIndex = text.lower().rfind('references')\n",
    "    # Only read from the article's introduction section to its references section \n",
    "    cleanedText = text[startingIndex:endingIndex]\n",
    "    # remove emails\n",
    "    cleanedText = re.sub('\\S*@\\S*\\s?', '', cleanedText)\n",
    "    # remove things inside parantheses, takes care of most in text citations\n",
    "    cleanedText = re.sub(r\"\\((.*?)\\)\", \"\", cleanedText)\n",
    "    # This pattern matches any character that is not an alphanumeric \\w, a whitespace \\s, or a punctuation symbol .,!,;\n",
    "    cleanedText = re.sub(r'[^\\w\\s\\d\\.\\!\\'\\:\\;]|_', '', cleanedText)\n",
    "    # remove the newline\n",
    "    cleanedText = cleanedText.replace('\\n', '')\n",
    "    # text is now a collection of string sentences\n",
    "    cleanedText = nltk.sent_tokenize(cleanedText)\n",
    "    # strip the sentences of spaces and resplit w/ wordninja then add periods\n",
    "    for i in range(len(cleanedText)):\n",
    "        cleanedText[i] = re.sub(' ', '',cleanedText[i])\n",
    "        cleanedText[i] = \" \".join(wordninja.split(cleanedText[i]))\n",
    "        cleanedText[i] = cleanedText[i] + '.'  \n",
    "    # combine sentences to one giant string again\n",
    "    return \" \".join(cleanedText)\n"
   ]
  },
  {
   "cell_type": "code",
   "execution_count": 123,
   "metadata": {},
   "outputs": [],
   "source": [
    "#     articleIdentifiers = set()\n",
    "#     for articleName in validArticles:\n",
    "#         # make a folder path to match the input articles folder structure, if one doesn't already exist\n",
    "#         if articleName[0:4] not in articleIdentifiers and not os.path.exists(f'cleanedArticles/{articleName[0:4]}') and not os.pathexists(f'rawArticles/{articleName[0:4]}'):\n",
    "#             articleIdentifiers.add(articleName[0:4])\n",
    "#             os.mkdir(f'cleanedArticles/{articleName[0:4]}')\n",
    "#             os.mkdir(f'rawArticles/{articleName[0:4]}')\n",
    "\n",
    "#         # writing raw articles to files (only doing this here because im taking the first 10 valid articles)\n",
    "#         text = validArticles[articleName]\n",
    "#         text_file = open(f\"rawArticles/{articleName[0:4]}/{articleName}\", \"w\")\n",
    "#         text_file.write(text)\n",
    "#         text_file.close()\n",
    "        \n",
    "#         # writing cleaned articles to files\n",
    "#         cleanedText = cleanArticle(text)  \n",
    "#         cleaned_text_file = open(f\"cleanedArticles/{articleName[0:4]}/{articleName}\", \"w\", encoding='utf-8')\n",
    "#         cleaned_text_file.write(cleanedText)\n",
    "#         cleaned_text_file.close()\n"
   ]
  },
  {
   "cell_type": "code",
   "execution_count": 128,
   "metadata": {
    "scrolled": true
   },
   "outputs": [
    {
     "name": "stdout",
     "output_type": "stream",
     "text": [
      "The popularly accepted theory for the formation of the Earth Moon system is that the Moon was formed from debris of a strong impact by a giant planet es i mal with the Earth at the close of the planet forming period. Since the formation of the Earth Moon system it has been evolving at all timescale. It is well known that the Moon is receding from us and both the Earths rotation and Moons rotation are slowing. The popular theory is that the tidal friction causes all those changes. However based on tidal friction model and the current Moon Earth system data the tidal friction should be stronger and the recessional rate of the Moon should be greater in the past because the Moon was closer the distance of the Moon would quickly fall inside the Roc he's limit in which the Moon would be torn apart by gravity in 1 to 2 billion years ago. This however never happened. Furthermore geological evidence indicates that the recession of the Moon in the past was slower than the present rate i e the recession has been accelerating with time. Based on tidal friction models it must be concluded that tidal friction was very much less in the remote past than we would deduce on the basis of present day observations. This was called geological timescale difficulty or Lunar crisis and is one of the main arguments by creationists against the tidal friction theory. Various models were proposed in the past to describe the evolution of the Earth Moon system based on tidal friction mechanism to avoid this difficulty and put the Moon at quite a comfortable distance from Earth at 4 5 billion years ago. The tidal friction theories explain that the present rate of tidal dissipation is anomalous ly high because the tidal force is close to a resonance in the response function of ocean. Kagan gave a detailed review about those tidal friction models. Those models are based on many assumptions about geological and physical conditions in the past and many parameters have to be introduced and carefully adjusted to make their predictions close to the geological evidence. In the Meeting of Division of Particle and Field 2004 American Physical Society University of California at Riverside the author proposed a dark matter field fluid model with an on Newtonian approach the current Moon and Earth data agree with this model very well. This paper will demonstrate that the past evolution of Moon Earth system can be described by the dark matter field fluid model without any assumptions about past geological and physical conditions. Although the subject of the evolution of the Earth Moon system has been extensively studied analytically or numerically to the authors knowledge there are no theories similar or equivalent to this model. 2. Invisible matter In modern cosmology it was proposed that the visible matter in the universe is about 210 of the total matter and about 9098 of total matter is currently invisible which is called dark matter and dark energy such invisible matter has an anti gravity property to make the universe expanding faster and faster. If the ratio of the matter components of the universe is close to this hypothesis then the evolution of the universe should be dominated by the physical mechanism of such invisible matter such physical mechanism could be far beyond the current Newtonian physics and Einstein ian physics and the Newtonian physics and Einstein ian physics could reflect only a corner of the iceberg of the greater physics. If the ratio of the matter components of the universe is close to this hypothesis then it should be more reasonable to think that such dominant invisible matter spreads in everywhere of the universe in other words all visible matter objects should be surrounded by such invisible matter and the motion of the visible matter objects should be affected by the invisible matter if there are interactions between the visible matter and the invisible matter. If the ratio of the matter components of the universe is close to this hypothesis then the size of the particles of the invisible matter should be very small and below the detection limit of the current technology otherwise it would be detected longtime ago with such dominant amount. With such invisible matter in mind we move to the next section to develop the dark matter field fluid model with non Newtonian approach. For simplicity all invisible matter is called dark matter here. 3. The dark matter field fluid model In this proposed model it is assumed that 1. A celestial body rotates and moves in the space which for simplicity is uniformly filled with the dark matter which is in quiescent state relative to the motion of the celestial body. The dark matter possesses a field property and a fluid property it can interact with the celestial body with its fluid and field properties therefore it can have energy exchange with the celestial body and affect the motion of the celestial body. 2. The fluid property follows the general principle of fluid mechanics. The dark matter field fluid particles maybe so small that they can easily permeate into ordinary baryonic matter i e ordinary matter objects could be saturated with such dark matter field fluid. Thus the whole celestial body interacts with the dark matter field fluid in the manner of a sponge moving thru water. The nature of the field property of the dark matter field fluid is unknown. It is he reassumed that the interaction of the field associated with the dark matter field fluid with the celestial body is proportional to the mass of the celestial body. The dark matter field fluid is assumed to have a repulsive force against the gravitational force towards baryonic matter. The nature and mechanism of such repulsive force is unknown. With the assumptions above one can study how the dark matter field fluid may influence the motion of a celestial body and compare the results with observations. The common shape of celestial bodies is spherical. According to Stokes's law a rigid non permeable sphere moving through a quiescent fluid with a sufficiently low Reynolds number experiences a resistance force F where vis the moving velocity r is the radius of the sphere and is the fluid viscosity constant. The direction of the resistance force FinE q. 1 is opposite to the direction of the velocity v For a rigid sphere moving through the dark matter field fluid due to the dual properties of the dark matter field fluid and its permeation into the sphere the force F may not be proportional to the radius of the sphere. Also F maybe proportional to the mass of the sphere due to the field interaction. Therefore with the combined effects of both fluid and field the force exerted on the sphere by the dark matter field fluid is assumed to be of the scaled form where nisa parameter arising from saturation by dark matter field fluid the r 1 n can be viewed as the effective radius with the same unitas rm is the mass of the sphere and. is the dark matter field fluid constant which is equivalent to. The direction of the resistance force FinE q. 2 is opposite to the direction of the velocity v The force described by Eq. 2 is velocity dependent and causes negative acceleration. According to Newton's second law of motion the equation of motion for the sphere is Then where v 0 is the initial velocity of the sphere. If the sphere revolves around a massive gravitational center there are three forces in the line between the sphere and the gravitational center the gravitational force the centripetal acceleration force and the repulsive force of the dark matter field fluid. The drag force in Eq. 3 reduces the orbital velocity and causes the sphere to move inward to the gravitational center. However if the sum of the centripetal acceleration force and the repulsive force is stronger than the gravitational force then the sphere will move outward and recede from the gravitational center. This is the case of interest here. If the velocity change in Eq. 3 is sufficiently slow and the repulsive force is small compared to the gravitational force and centripetal acceleration force then the rate of receding will be accordingly relatively slow. Therefore the gravitational force and the centripetal acceleration force can be approximately treated in equilibrium at anytime. The pseudo equilibrium equation is where G is the gravitational constant Mis the mass of the gravitational center andRis the radius of the orbit. Inserting v of Eq. 4 into Eq. 5 yields or where R 0 is the initial distance to the gravitational center. Note that R exponentially increases with time. The increase of orbital energy with the receding comes from the repulsive force of dark matter field fluid. The recessional rate of the sphere is The acceleration of the recession is. The recessional acceleration is positive and proportional to its distance to the gravitational center so the recession is faster and faster. According to the mechanics of fluids for a rigid non permeable sphere rotating about its central axis in the quiescent fluid the torque T exerted by the fluid on the sphere is where. is the angular velocity of the sphere. The direction of the torque in Eq. 11 is opposite to the direction of the rotation. In the case of a sphere rotating in the quiescent dark matter field fluid with angular velocity. similar to Eq. 2 the proposed T exerted on the sphere is The direction of the torque in Eq. 12 is opposite to the direction of the rotation. The torque causes the negative angular acceleration where I is the moment of inertia of the sphere in the dark matter field fluid Therefore the equation of rotation for the sphere in the dark matter field fluid is Solving this equation yields where 0 is the initial angular velocity. One can see that the angular velocity of the sphere exponentially decreases with time and the angular deceleration is proportional to its angular velocity. For the same celestial sphere combining Eq. 9 and Eq. 15 yields The significance of Eq. 17 is that it contains only observed data without assumptions and undetermined parameters therefore it is a critical test for this model. For two different celestial spheres in the same system combining Eq. 9 and Eq. 15 yields This is another critical test for this model. 4. The current behavior of the Earth Moon system agrees with the model The Moon Earth system is the simplest gravitational system. The solar system is complex the Earth and the Moon experience not only the interaction of the Sun but also interactions of other planets. Let us consider the local Earth Moon gravitational system as an isolated local gravitational system i e. the influence from the Sun and other planets on the rotation and orbital motion of the Moon and on the rotation of the Earth is assumed negligible compared to the forces exerted by the moon and earth on each other. In addition the eccentricity of the Moon's orbit is small enough to be ignored. The data about the Moon and the Earth from references are listed below for the readers ' convenience to verify the calculation because the data may vary slightly with different data sources. Moon Mean radius r 1738 0 km Mass m 7 34831025 gram Rotation period 27 321661 days Angular velocity of Moon 2 6617106 rad s 1 Mean distance to Earth Rm 384400 km Mean orbital velocity v 1 023 kms 1 Orbit eccentricity e 0 0549 Angular rotation acceleration rate 25 880 5 arcsec century 2104 rad century 21023 rad s 2 Receding rate from Earth 3 820 07 cm year 1109 ms 1 Earth Mean radius r 6371 0 km Mass m 5 97421027 gram Rotation period 23 h 56 m 04 098904 s 86164 098904 s Angular velocity of rotation 7 292115105 rad s 1 Mean distance to the Sun Rm 149597870 61 km Mean orbital velocity v 29 78 kms 1 Angular acceleration of Earth 1022 rad s 2 The Moon's angular rotation acceleration rate and increase in mean distance to the Earth were obtained from the lunar laser ranging of the Apollo Program. By inserting the data of the Moon's rotation and recession into Eq. 17 the result is The distance R in Eq. 19 is from the Moon's center to the Earth's center and the number 384400 km is assumed to be the distance from the Moon's surface to the Earth's surface. Eq. 19 is in good agreement with the theoretical value of 1 67. The result is in accord with the model used here. The difference between the values of 1 54 and 1 67 may come from several sources 1. Moon's orbital is not a perfect circle 2. Moon is not a perfect rigid sphere. 3. The effect from Sun and other planets. 4. Errors in data. 5. Possible other unknown reasons. The two parameters n and. in Eq. 9 and Eq. 15 can be determined with two datasets. The third data set can be used to further test the model. If this model correctly describes the situation at hand it should give consistent results for different motions. The values of n and. calculated from three different datasets are listed below. The value of n n 0 64 From the Moon's rotation. 4 271022 s 1 m 1 From the Earth's rotation. 4 261022 s 1 m 1 From the Moon's recession. 4 641022 s 1 m 1 One can see that the three values of. are consistent within the range of error in the data. The average value of. 1022 s 1 m 1 By inserting the data of the Earth's rotation the Moons recession and the value of n into Eq. 18 the result is This is also in accord with the model used here. The dragging force exerted on the Moon's orbital motion by the dark matter field fluid is 1 11108 N this is negligibly small compared to the gravitational force between the Moon and the Earth 1 901020 N and the torque exerted by the dark matter field fluid on the Earths and the Moon's rotations is T 5 491016 Nm and 1 151012 Nm respectively. 5. The evolution of Earth Moon systemS one tte tal. found that the length of the terrestrial day 900 million years ago was about 19 2 hours based on the laminated tidal sediments on the Earth. According to the model presented here back in that time the length of the day was about 19 2 hours this agrees very well with Sonet te tal. 's result. Based on the dark matter field fluid model and the above result the closest distance of the Moon to the Earth was about 259000 km or about two thirds of current distance at 4 5 billion years ago this is far beyond the Roc he's limit. This number agrees closely with some of earlier Moon Earth models. The closest distance of the Moon to the Earth by Hansen s models was about 38 Earth radii or 242000 km. According to this model the length of day of the Earth was about 8 hours at 4 5 billion years ago. Fig. 1 shows the evolution of the distance of Moon to the Earth and the length of day of the Earth with the age of the Earth Moon system described by this model along with data from Kv a leet al. Sonet te tal. and Sc rut ton. One can see that those data fit this model very well in their time range. Fig. 2 shows the geological data of solar days year 1 from Wells and from Sonet te tal. and the description by this dark matter field fluid model for past 900 million years. One can see that the model agrees with the geological and fossil data beautifully. The important difference of this model with early models in describing the early evolution of the Earth Moon system is that this model is based only on current data of the Moon Earth system and there are no assumptions about the conditions of earlier Earth rotation and continental drifting. Based on this model the Earth Moon system has been smoothly evolving to the current position since it was established and the recessional rate of the Moon has been gradually increasing however this description does not take it into account that there might be special events happened in the past to cause the suddenly significant changes in the motions of the Earth and the Moon such as strong impacts by giant asteroids and comets etc because those impacts are very common in the universe. The general pattern of the evolution of the Moon Earth system described by this model agrees with geological evidence. Based onE q. 9 the recessional rate exponentially increases with time. One may then imagine that the recessional rate will quickly become very large. The increase is in fact extremely slow. The Moon's recessional rate will be 3 04109 ms 1 after 10 billion years and 7 64109 ms 1 after 20 billion years. However whether the Moon's recession will continue or at sometime later another mechanism will takeover is not known. It should be understood that the tidal friction does affect the evolution of the Earth itself such as the surface crust structure continental drifting and evolution of bio system etc it may also play a role in slowing the Earths rotation however such role is not a dominant mechanism. Unfortunately there is no data available for the changes of the Earth's orbital motion and all other members of solar system. According to this model and above results the recessional rate of the Earth should be 6 86107 ms 121 6 m year 12 16 km century 1 the length of a year increases about 6 8 ms and the change of the temperature is 1 8108 K year 1 with constant radiation level of the Sun and the stable environment on the Earth. The length of a year at 1 billion years ago would be 80 of the current length of the year. However much evidence suggest that there has been no apparent change in the length of the year over the billion years and the Earth's orbital motion is more stable than its rotation. This suggests that dark matter field fluid is circulating around Sun with the same direction and similar speed of Earth. Therefore the Earth's orbital motion experiences very little or no dragging force from the dark matter field fluid. However this is a conjecture extensive research has to be conducted to verify if this is the case. 6. Skeptical description of the evolution of the Mars The Moon does not have liquid fluid on its surface even there is no air therefore there is no ocean like tidal friction force to slow its rotation however the rotation of the Moon is still slowing at significant rate of 1023 rad s 2 which agrees the model very well. Based on this one may reasonably think that the Mars s rotation should be slowing also. The Mars is our nearest neighbor which has attracted humans great attention since ancient time. The exploration of the Marsh as been heating up in recent decades. NASA Russian and Europe Space Agency sent many spacecrafts to the Mars to collect data and study this mysterious planet. So far there is still not enough data about the history of this planet to describe its evolution. Same as the Earth the Mars rotates about its central axis and revolves around the Sun however the Mars does not have a massive moon circulating it and there is no liquid fluid on its surface therefore there is no apparent ocean like tidal friction force to slow its rotation by tidal friction theories. Based on the above result and current the Mars's data this model predicts that the angular acceleration of the Mars should be about 4 381022 rad s 2. Figure 3 describes the possible evolution of the length of day and the solar days Mars year the vertical dash line marks the current age of the Mars with assumption that the Mars was formed in a similar time period of the Earth formation. Such description was not given before according to the authors knowledge and is completely skeptical due to lack of reliable data. However with further expansion of the research and exploration on the Mars we shall feel confident that the reliable data about the angular rotation acceleration of the Mars will be available in the near future which will provide a vital test for the prediction of this model. There are also other factors which may affect the Mars s rotation rate such as mass redistribution due to season change winds possible volcano eruptions and Mars quakes. Therefore the data has to be carefully analyzed. 7. Discussion about the model From the above results one can see that the current Earth Moon data and the geological and fossil data agree with the model very well and the past evolution of the Earth Moon system can be described by the model without introducing any additional parameters this model reveals the interesting relationship between the rotation and receding of the same celestial body or different celestial bodies in the same gravitational system such relationship is not known before. Such success cannot be explained by coincidence or luck because of so many data involved if one thinks that this is just aad hoc or a wrong model although the chance for the natural happening of such coincidence or luck could be greater than wining a jackpot lottery the future Mars s data will clarify this otherwise a new theory from different approach can be developed to give the same or better description as this model does. It is certain that this model is not perfect and may have defects further development maybe conducted. James Clark Maxwell said in the 1873 The vast interplanetary and interstellar regions will no longer be regarded as waste places in the universe which the Creator has not seen fit to fill with the symbols of the manifold order of His kingdom. We shall find them to be already full of this wonderful medium so full that no human power can remove it from the smallest portion of space or produce the slightest flaw in its infinite continuity. It extends unbroken from star to star. The medium that Maxwell talked about is the aether which was proposed as the carrier of light wave propagation. The Michelson Morley experiment only proved that the light wave propagation does not depend on such medium and did not reject the existence of the medium in the interstellar space. In fact the concept of the interstellar medium has been developed dramatically recently such as the dark matter dark energy cosmic fluid etc. The dark matter field fluid is just apart of such wonderful medium and precisely described by Maxwell. 7. Conclusion The evolution of the Earth Moon system can be described by the dark matter field fluid model with non Newtonian approach and the current data of the Earth and the Moon fits this model very well. At 4 5 billion years ago the closest distance of the Moon to the Earth could be about 259000 km which is far beyond the Roche s limit and the length of day was about 8 hours. The general pattern of the evolution of the Moon Earth system described by this model agrees with geological and fossil evidence. The tidal friction may not be the primary cause for the evolution of the Earth Moon system. The Mars s rotation is also slowing with the angular acceleration rate about 4 381022 rad s 2. Acknowledgements Author is highly indebted to Prof Kermit Duck ett Prof Denis Johnson Dr James Wicker Dr Robert Taylor for lively discussions and comments. Professor Bernie Ger stein helped to edit the document.\n"
     ]
    }
   ],
   "source": [
    "# FOR TESTING SINGLE ARTICLES\n",
    "\n",
    "# text_file = open('0704.0003v2.txt','r', encoding='cp1252', errors='ignore')\n",
    "# data = text_file.read()\n",
    "# text_file.close()\n",
    "\n",
    "# cleaned = cleanArticle(data)\n",
    "\n",
    "# print(cleaned)"
   ]
  },
  {
   "cell_type": "code",
   "execution_count": null,
   "metadata": {},
   "outputs": [],
   "source": []
  }
 ],
 "metadata": {
  "kernelspec": {
   "display_name": "Python 3 (ipykernel)",
   "language": "python",
   "name": "python3"
  },
  "language_info": {
   "codemirror_mode": {
    "name": "ipython",
    "version": 3
   },
   "file_extension": ".py",
   "mimetype": "text/x-python",
   "name": "python",
   "nbconvert_exporter": "python",
   "pygments_lexer": "ipython3",
   "version": "3.10.9"
  },
  "vscode": {
   "interpreter": {
    "hash": "93c5346a6a3d07125b79d64fc117728ba646bd89aaa0c0db68034b154e209009"
   }
  }
 },
 "nbformat": 4,
 "nbformat_minor": 2
}
