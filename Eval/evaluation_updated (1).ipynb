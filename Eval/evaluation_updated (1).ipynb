{
  "cells": [
    {
      "cell_type": "code",
      "execution_count": null,
      "metadata": {
        "id": "PMjpgwG7lZl2"
      },
      "outputs": [],
      "source": [
        "# !pip install transformers\n",
        "# !pip install rouge_score\n",
        "# !pip install sacrebleu\n",
        "# from Evaluate import Evaluator\n",
        "import pandas as pd\n",
        "import pickle\n",
        "\n",
        "# put your pickle file location below\n",
        "loaded_model = pickle.load(open('/content/tst_model_pkl', 'rb'))\n",
        "\n",
        "data = pd.read_csv('/sample_test_dataset.csv')\n",
        "\n",
        "source_texts = data['body']\n",
        "reference_summaries = data['abstract']\n",
        "\n",
        "evaluator = Evaluator(loaded_model,source_texts,reference_summaries)\n",
        "\n",
        "# print(evaluator.rouge_scores())\n",
        "# print(evaluator.bleu_scores())"
      ]
    }
  ],
  "metadata": {
    "kernelspec": {
      "display_name": "pollock_env",
      "language": "python",
      "name": "python3"
    },
    "language_info": {
      "codemirror_mode": {
        "name": "ipython",
        "version": 3
      },
      "file_extension": ".py",
      "mimetype": "text/x-python",
      "name": "python",
      "nbconvert_exporter": "python",
      "pygments_lexer": "ipython3",
      "version": "3.10.9"
    },
    "orig_nbformat": 4,
    "colab": {
      "provenance": [],
      "gpuType": "T4",
      "toc_visible": true
    },
    "accelerator": "GPU",
    "gpuClass": "standard"
  },
  "nbformat": 4,
  "nbformat_minor": 0
}