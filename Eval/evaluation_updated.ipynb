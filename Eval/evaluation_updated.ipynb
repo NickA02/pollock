{
  "cells": [
    {
      "cell_type": "code",
      "execution_count": 4,
      "metadata": {
        "colab": {
          "base_uri": "https://localhost:8080/"
        },
        "id": "PMjpgwG7lZl2",
        "outputId": "f6154b63-e9e4-443d-d259-6ac67e7955dd"
      },
      "outputs": [
        {
          "output_type": "stream",
          "name": "stdout",
          "text": [
            "0       observations in the submillimetre  wavelength...\n",
            "1       theinterface region imaging spectrograph  was...\n",
            "2       1 2 the sun 4 2.1 observables 4 2.2 standard ...\n",
            "3       m13 was one of the ïrst globular clusters ide...\n",
            "4       the study of supersymmetric gauge theories ha...\n",
            "                             ...                        \n",
            "995     a family of ndimensional surfaces îtâ0inrn1is...\n",
            "996     categorical issues from the homotopy theory o...\n",
            "997     2 notations and preliminaries 3 1. lubintate ...\n",
            "998     let nbe an n ãnreal nilpotent matrix  and con...\n",
            "999     3 2 preliminaries 5 2.1 oïpolicy policy evalu...\n",
            "Name: body, Length: 1000, dtype: object\n"
          ]
        }
      ],
      "source": [
        "# !pip install transformers\n",
        "# !pip install rouge_score\n",
        "# !pip install sacrebleu\n",
        "# from Evaluate import Evaluator\n",
        "import pandas as pd\n",
        "import pickle\n",
        "\n",
        "# put your pickle file location below\n",
        "loaded_model = pickle.load(open('/content/tst_model_pkl', 'rb'))\n",
        "\n",
        "data = pd.read_csv('/sample_test_dataset.csv')\n",
        "\n",
        "source_texts = data['body']\n",
        "reference_summaries = data['abstract']\n",
        "\n",
        "evaluator = Evaluator(loaded_model,source_texts,reference_summaries)\n",
        "\n",
        "# print(evaluator.rouge_scores())\n",
        "# print(evaluator.bleu_scores())"
      ]
    }
  ],
  "metadata": {
    "kernelspec": {
      "display_name": "pollock_env",
      "language": "python",
      "name": "python3"
    },
    "language_info": {
      "codemirror_mode": {
        "name": "ipython",
        "version": 3
      },
      "file_extension": ".py",
      "mimetype": "text/x-python",
      "name": "python",
      "nbconvert_exporter": "python",
      "pygments_lexer": "ipython3",
      "version": "3.10.9"
    },
    "orig_nbformat": 4,
    "colab": {
      "provenance": [],
      "gpuType": "T4",
      "toc_visible": true
    },
    "accelerator": "GPU",
    "gpuClass": "standard"
  },
  "nbformat": 4,
  "nbformat_minor": 0
}