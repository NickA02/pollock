{
 "cells": [
  {
   "cell_type": "code",
   "execution_count": 1,
   "metadata": {},
   "outputs": [
    {
     "name": "stderr",
     "output_type": "stream",
     "text": [
      "c:\\Users\\zgord\\.conda\\envs\\pollock_env\\lib\\site-packages\\tqdm\\auto.py:21: TqdmWarning: IProgress not found. Please update jupyter and ipywidgets. See https://ipywidgets.readthedocs.io/en/stable/user_install.html\n",
      "  from .autonotebook import tqdm as notebook_tqdm\n",
      "c:\\Users\\zgord\\.conda\\envs\\pollock_env\\lib\\site-packages\\transformers\\generation\\utils.py:1288: UserWarning: Using `max_length`'s default (512) to control the generation length. This behaviour is deprecated and will be removed from the config in v5 of Transformers -- we recommend using `max_new_tokens` to control the maximum length of the generation.\n",
      "  warnings.warn(\n"
     ]
    },
    {
     "name": "stdout",
     "output_type": "stream",
     "text": [
      "[{'rouge1': Score(precision=0.46153846153846156, recall=0.43902439024390244, fmeasure=0.45), 'rouge2': Score(precision=0.12931034482758622, recall=0.12295081967213115, fmeasure=0.12605042016806722), 'rougeL': Score(precision=0.2222222222222222, recall=0.21138211382113822, fmeasure=0.21666666666666665)}, {'rouge1': Score(precision=0.5206611570247934, recall=0.39375, fmeasure=0.44839857651245546), 'rouge2': Score(precision=0.18333333333333332, recall=0.13836477987421383, fmeasure=0.15770609318996415), 'rougeL': Score(precision=0.256198347107438, recall=0.19375, fmeasure=0.22064056939501778)}, {'rouge1': Score(precision=0.3300970873786408, recall=0.2518518518518518, fmeasure=0.2857142857142857), 'rouge2': Score(precision=0.058823529411764705, recall=0.04477611940298507, fmeasure=0.05084745762711864), 'rougeL': Score(precision=0.18446601941747573, recall=0.14074074074074075, fmeasure=0.15966386554621848)}, {'rouge1': Score(precision=0.5360824742268041, recall=0.17218543046357615, fmeasure=0.2606516290726817), 'rouge2': Score(precision=0.14583333333333334, recall=0.046511627906976744, fmeasure=0.07052896725440806), 'rougeL': Score(precision=0.28865979381443296, recall=0.09271523178807947, fmeasure=0.14035087719298245)}, {'rouge1': Score(precision=0.5384615384615384, recall=0.3888888888888889, fmeasure=0.45161290322580644), 'rouge2': Score(precision=0.19480519480519481, recall=0.14018691588785046, fmeasure=0.1630434782608696), 'rougeL': Score(precision=0.32051282051282054, recall=0.23148148148148148, fmeasure=0.2688172043010753)}, {'rouge1': Score(precision=0.3867924528301887, recall=0.4019607843137255, fmeasure=0.3942307692307692), 'rouge2': Score(precision=0.1523809523809524, recall=0.15841584158415842, fmeasure=0.1553398058252427), 'rougeL': Score(precision=0.24528301886792453, recall=0.2549019607843137, fmeasure=0.25)}, {'rouge1': Score(precision=0.8275862068965517, recall=0.6206896551724138, fmeasure=0.7093596059113301), 'rouge2': Score(precision=0.627906976744186, recall=0.46956521739130436, fmeasure=0.537313432835821), 'rougeL': Score(precision=0.7126436781609196, recall=0.5344827586206896, fmeasure=0.6108374384236452)}, {'rouge1': Score(precision=0.30303030303030304, recall=0.08298755186721991, fmeasure=0.13029315960912052), 'rouge2': Score(precision=0.06153846153846154, recall=0.016666666666666666, fmeasure=0.02622950819672131), 'rougeL': Score(precision=0.21212121212121213, recall=0.058091286307053944, fmeasure=0.09120521172638438)}, {'rouge1': Score(precision=0.4065040650406504, recall=0.23148148148148148, fmeasure=0.2949852507374631), 'rouge2': Score(precision=0.06557377049180328, recall=0.037209302325581395, fmeasure=0.04747774480712166), 'rougeL': Score(precision=0.21138211382113822, recall=0.12037037037037036, fmeasure=0.15339233038348082)}, {'rouge1': Score(precision=0.49700598802395207, recall=0.3688888888888889, fmeasure=0.423469387755102), 'rouge2': Score(precision=0.13855421686746988, recall=0.10267857142857142, fmeasure=0.11794871794871796), 'rougeL': Score(precision=0.2155688622754491, recall=0.16, fmeasure=0.18367346938775508)}]\n",
      "[1.5642746509373526e-78, 0.04892612540006185, 3.861750750772581e-155, 2.650060990014865e-79, 0.08897584338667351, 0.08057300394279451, 0.33449492189058905, 4.590245842848947e-156, 8.68147091512032e-79, 1.6532963423952257e-78]\n"
     ]
    },
    {
     "name": "stderr",
     "output_type": "stream",
     "text": [
      "c:\\Users\\zgord\\.conda\\envs\\pollock_env\\lib\\site-packages\\nltk\\translate\\bleu_score.py:552: UserWarning: \n",
      "The hypothesis contains 0 counts of 4-gram overlaps.\n",
      "Therefore the BLEU score evaluates to 0, independently of\n",
      "how many N-gram overlaps of lower order it contains.\n",
      "Consider using lower n-gram order or use SmoothingFunction()\n",
      "  warnings.warn(_msg)\n",
      "c:\\Users\\zgord\\.conda\\envs\\pollock_env\\lib\\site-packages\\nltk\\translate\\bleu_score.py:552: UserWarning: \n",
      "The hypothesis contains 0 counts of 3-gram overlaps.\n",
      "Therefore the BLEU score evaluates to 0, independently of\n",
      "how many N-gram overlaps of lower order it contains.\n",
      "Consider using lower n-gram order or use SmoothingFunction()\n",
      "  warnings.warn(_msg)\n"
     ]
    }
   ],
   "source": [
    "from Evaluate import Evaluator\n",
    "import pandas as pd\n",
    "\n",
    "model_name = \"patrickvonplaten/led-large-16384-pubmed\"\n",
    "\n",
    "\n",
    "test = pd.read_csv('C:/Users/zgord/shared/unc/semesters/fall-23/NLP/pollock/Sample_Data/train.csv')\n",
    "test = test.iloc[: , 1:]\n",
    "\n",
    "source_texts = test['body']\n",
    "reference_summaries = test['abstract']\n",
    "\n",
    "evaluator = Evaluator(model_name,source_texts,reference_summaries)\n",
    "\n",
    "print(evaluator.rouge_scores())\n",
    "print(evaluator.bleu_scores())"
   ]
  },
  {
   "cell_type": "code",
   "execution_count": 15,
   "metadata": {},
   "outputs": [
    {
     "data": {
      "text/plain": [
       "[{'rouge1': Score(precision=0.46153846153846156, recall=0.43902439024390244, fmeasure=0.45),\n",
       "  'rouge2': Score(precision=0.12931034482758622, recall=0.12295081967213115, fmeasure=0.12605042016806722),\n",
       "  'rougeL': Score(precision=0.2222222222222222, recall=0.21138211382113822, fmeasure=0.21666666666666665)},\n",
       " {'rouge1': Score(precision=0.5206611570247934, recall=0.39375, fmeasure=0.44839857651245546),\n",
       "  'rouge2': Score(precision=0.18333333333333332, recall=0.13836477987421383, fmeasure=0.15770609318996415),\n",
       "  'rougeL': Score(precision=0.256198347107438, recall=0.19375, fmeasure=0.22064056939501778)},\n",
       " {'rouge1': Score(precision=0.3300970873786408, recall=0.2518518518518518, fmeasure=0.2857142857142857),\n",
       "  'rouge2': Score(precision=0.058823529411764705, recall=0.04477611940298507, fmeasure=0.05084745762711864),\n",
       "  'rougeL': Score(precision=0.18446601941747573, recall=0.14074074074074075, fmeasure=0.15966386554621848)},\n",
       " {'rouge1': Score(precision=0.5360824742268041, recall=0.17218543046357615, fmeasure=0.2606516290726817),\n",
       "  'rouge2': Score(precision=0.14583333333333334, recall=0.046511627906976744, fmeasure=0.07052896725440806),\n",
       "  'rougeL': Score(precision=0.28865979381443296, recall=0.09271523178807947, fmeasure=0.14035087719298245)},\n",
       " {'rouge1': Score(precision=0.5384615384615384, recall=0.3888888888888889, fmeasure=0.45161290322580644),\n",
       "  'rouge2': Score(precision=0.19480519480519481, recall=0.14018691588785046, fmeasure=0.1630434782608696),\n",
       "  'rougeL': Score(precision=0.32051282051282054, recall=0.23148148148148148, fmeasure=0.2688172043010753)},\n",
       " {'rouge1': Score(precision=0.3867924528301887, recall=0.4019607843137255, fmeasure=0.3942307692307692),\n",
       "  'rouge2': Score(precision=0.1523809523809524, recall=0.15841584158415842, fmeasure=0.1553398058252427),\n",
       "  'rougeL': Score(precision=0.24528301886792453, recall=0.2549019607843137, fmeasure=0.25)},\n",
       " {'rouge1': Score(precision=0.8275862068965517, recall=0.6206896551724138, fmeasure=0.7093596059113301),\n",
       "  'rouge2': Score(precision=0.627906976744186, recall=0.46956521739130436, fmeasure=0.537313432835821),\n",
       "  'rougeL': Score(precision=0.7126436781609196, recall=0.5344827586206896, fmeasure=0.6108374384236452)},\n",
       " {'rouge1': Score(precision=0.30303030303030304, recall=0.08298755186721991, fmeasure=0.13029315960912052),\n",
       "  'rouge2': Score(precision=0.06153846153846154, recall=0.016666666666666666, fmeasure=0.02622950819672131),\n",
       "  'rougeL': Score(precision=0.21212121212121213, recall=0.058091286307053944, fmeasure=0.09120521172638438)},\n",
       " {'rouge1': Score(precision=0.4065040650406504, recall=0.23148148148148148, fmeasure=0.2949852507374631),\n",
       "  'rouge2': Score(precision=0.06557377049180328, recall=0.037209302325581395, fmeasure=0.04747774480712166),\n",
       "  'rougeL': Score(precision=0.21138211382113822, recall=0.12037037037037036, fmeasure=0.15339233038348082)},\n",
       " {'rouge1': Score(precision=0.49700598802395207, recall=0.3688888888888889, fmeasure=0.423469387755102),\n",
       "  'rouge2': Score(precision=0.13855421686746988, recall=0.10267857142857142, fmeasure=0.11794871794871796),\n",
       "  'rougeL': Score(precision=0.2155688622754491, recall=0.16, fmeasure=0.18367346938775508)}]"
      ]
     },
     "execution_count": 15,
     "metadata": {},
     "output_type": "execute_result"
    }
   ],
   "source": [
    "evaluator.rouge_scores()"
   ]
  },
  {
   "cell_type": "code",
   "execution_count": null,
   "metadata": {},
   "outputs": [],
   "source": []
  }
 ],
 "metadata": {
  "kernelspec": {
   "display_name": "pollock_env",
   "language": "python",
   "name": "python3"
  },
  "language_info": {
   "codemirror_mode": {
    "name": "ipython",
    "version": 3
   },
   "file_extension": ".py",
   "mimetype": "text/x-python",
   "name": "python",
   "nbconvert_exporter": "python",
   "pygments_lexer": "ipython3",
   "version": "3.10.9"
  },
  "orig_nbformat": 4
 },
 "nbformat": 4,
 "nbformat_minor": 2
}
