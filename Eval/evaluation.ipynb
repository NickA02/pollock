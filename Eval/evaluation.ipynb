{
 "cells": [
  {
   "cell_type": "code",
   "execution_count": 1,
   "metadata": {},
   "outputs": [
    {
     "name": "stderr",
     "output_type": "stream",
     "text": [
      "c:\\Users\\zgord\\.conda\\envs\\pollock_env\\lib\\site-packages\\tqdm\\auto.py:21: TqdmWarning: IProgress not found. Please update jupyter and ipywidgets. See https://ipywidgets.readthedocs.io/en/stable/user_install.html\n",
      "  from .autonotebook import tqdm as notebook_tqdm\n",
      "c:\\Users\\zgord\\.conda\\envs\\pollock_env\\lib\\site-packages\\transformers\\generation\\utils.py:1288: UserWarning: Using `max_length`'s default (512) to control the generation length. This behaviour is deprecated and will be removed from the config in v5 of Transformers -- we recommend using `max_new_tokens` to control the maximum length of the generation.\n",
      "  warnings.warn(\n"
     ]
    },
    {
     "ename": "AttributeError",
     "evalue": "'Evaluator' object has no attribute 'bleu_score'",
     "output_type": "error",
     "traceback": [
      "\u001b[1;31m---------------------------------------------------------------------------\u001b[0m",
      "\u001b[1;31mAttributeError\u001b[0m                            Traceback (most recent call last)",
      "Cell \u001b[1;32mIn[1], line 16\u001b[0m\n\u001b[0;32m     13\u001b[0m evaluator \u001b[39m=\u001b[39m Evaluator(model_name,source_texts,reference_summaries)\n\u001b[0;32m     15\u001b[0m rouge \u001b[39m=\u001b[39m evaluator\u001b[39m.\u001b[39mrouge_scores()\n\u001b[1;32m---> 16\u001b[0m bleu \u001b[39m=\u001b[39m evaluator\u001b[39m.\u001b[39;49mbleu_score()\n\u001b[0;32m     17\u001b[0m \u001b[39m# meteor = evaluator.meteor_score(source_text, reference_summary)\u001b[39;00m\n\u001b[0;32m     18\u001b[0m \u001b[39m# perplexity = evaluator.perplexity(source_text, reference_summary)\u001b[39;00m\n\u001b[0;32m     20\u001b[0m \u001b[39mprint\u001b[39m(\u001b[39m\"\u001b[39m\u001b[39mROUGE scores:\u001b[39m\u001b[39m\"\u001b[39m, rouge)\n",
      "\u001b[1;31mAttributeError\u001b[0m: 'Evaluator' object has no attribute 'bleu_score'"
     ]
    }
   ],
   "source": [
    "from Evaluate import Evaluator\n",
    "import pandas as pd\n",
    "\n",
    "model_name = \"patrickvonplaten/led-large-16384-pubmed\"\n",
    "\n",
    "\n",
    "test = pd.read_csv('C:/Users/zgord/shared/unc/semesters/fall-23/NLP/pollock/Sample_Data/train.csv')\n",
    "test = test.iloc[: , 1:]\n",
    "\n",
    "source_texts = test['body']\n",
    "reference_summaries = test['abstract']\n",
    "\n",
    "evaluator = Evaluator(model_name,source_texts,reference_summaries)\n",
    "\n",
    "scores = evaluator.get_pandas_scores('rouge','bleu')                                     \n",
    "scores"
   ]
  },
  {
   "cell_type": "code",
   "execution_count": null,
   "metadata": {},
   "outputs": [],
   "source": []
  }
 ],
 "metadata": {
  "kernelspec": {
   "display_name": "pollock_env",
   "language": "python",
   "name": "python3"
  },
  "language_info": {
   "codemirror_mode": {
    "name": "ipython",
    "version": 3
   },
   "file_extension": ".py",
   "mimetype": "text/x-python",
   "name": "python",
   "nbconvert_exporter": "python",
   "pygments_lexer": "ipython3",
   "version": "3.10.9"
  },
  "orig_nbformat": 4
 },
 "nbformat": 4,
 "nbformat_minor": 2
}
